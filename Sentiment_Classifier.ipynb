{
  "nbformat": 4,
  "nbformat_minor": 0,
  "metadata": {
    "colab": {
      "provenance": [],
      "authorship_tag": "ABX9TyPOF/nGvAqTxsY/iU8ffJ38",
      "include_colab_link": true
    },
    "kernelspec": {
      "name": "python3",
      "display_name": "Python 3"
    },
    "language_info": {
      "name": "python"
    }
  },
  "cells": [
    {
      "cell_type": "markdown",
      "metadata": {
        "id": "view-in-github",
        "colab_type": "text"
      },
      "source": [
        "<a href=\"https://colab.research.google.com/github/Varun-Pradeep1/my-first-project/blob/main/Sentiment_Classifier.ipynb\" target=\"_parent\"><img src=\"https://colab.research.google.com/assets/colab-badge.svg\" alt=\"Open In Colab\"/></a>"
      ]
    },
    {
      "cell_type": "code",
      "execution_count": null,
      "metadata": {
        "id": "lT6x4rPIL6aH"
      },
      "outputs": [],
      "source": [
        "# ======================================\n",
        "# Step 0: Setup\n",
        "# ======================================\n",
        "\n",
        "# Install Hugging Face libraries (only needed in Colab, not in Cursor/local if already installed)\n",
        "!pip install -q transformers datasets evaluate accelerate\n",
        "\n",
        "# Check GPU availability\n",
        "!nvidia-smi"
      ]
    },
    {
      "cell_type": "code",
      "source": [
        "# ======================================\n",
        "# Step 1: Imports\n",
        "# ======================================\n",
        "from datasets import load_dataset\n",
        "from transformers import RobertaTokenizerFast, RobertaForSequenceClassification, Trainer, TrainingArguments\n",
        "import evaluate\n",
        "import numpy as np"
      ],
      "metadata": {
        "id": "zlKiPCspMBgD"
      },
      "execution_count": null,
      "outputs": []
    },
    {
      "cell_type": "code",
      "source": [
        "# ======================================\n",
        "# Step 2: Load Dataset\n",
        "# ======================================\n",
        "\n",
        "# Example: If you have your own CSV file in GitHub, replace with raw link\n",
        "# dataset = load_dataset(\"csv\", data_files={\"train\": \"train.csv\", \"test\": \"test.csv\"})\n",
        "\n",
        "# For demo, let's load Sentiment140 (1.6M tweets)\n",
        "dataset = load_dataset(\"sentiment140\")\n",
        "\n",
        "# Use a smaller subset first (to test the pipeline)\n",
        "# dataset[\"train\"] = dataset[\"train\"].shuffle(seed=42).select(range(20000))\n",
        "# dataset[\"test\"]  = dataset[\"test\"].shuffle(seed=42).select(range(5000))\n",
        "\n",
        "dataset"
      ],
      "metadata": {
        "id": "2eNODvDHMEd-"
      },
      "execution_count": null,
      "outputs": []
    },
    {
      "cell_type": "code",
      "source": [
        "# ======================================\n",
        "# Step 3: Tokenizer\n",
        "# ======================================\n",
        "tokenizer = RobertaTokenizerFast.from_pretrained(\"roberta-base\")\n",
        "\n",
        "def tokenize_fn(batch):\n",
        "    return tokenizer(batch[\"text\"], padding=\"max_length\", truncation=True)\n",
        "\n",
        "tokenized_datasets = dataset.map(tokenize_fn, batched=True)\n",
        "\n",
        "# Keep only the needed columns\n",
        "tokenized_datasets = tokenized_datasets.remove_columns([\"text\", \"date\", \"query\", \"user\"])\n",
        "tokenized_datasets = tokenized_datasets.rename_column(\"sentiment\", \"labels\")\n",
        "tokenized_datasets.set_format(\"torch\")\n",
        "\n",
        "train_dataset = tokenized_datasets[\"train\"]\n",
        "test_dataset  = tokenized_datasets[\"test\"]"
      ],
      "metadata": {
        "id": "-lR4Ba2WMHAN"
      },
      "execution_count": null,
      "outputs": []
    },
    {
      "cell_type": "code",
      "source": [
        "# ======================================\n",
        "# Step 4: Model\n",
        "# ======================================\n",
        "model = RobertaForSequenceClassification.from_pretrained(\n",
        "    \"roberta-base\",\n",
        "    num_labels=3\n",
        ")"
      ],
      "metadata": {
        "id": "kJ8B6GZ2MJSv"
      },
      "execution_count": null,
      "outputs": []
    },
    {
      "cell_type": "code",
      "source": [
        "# ======================================\n",
        "# Step 5: Metrics\n",
        "# ======================================\n",
        "accuracy = evaluate.load(\"accuracy\")\n",
        "f1 = evaluate.load(\"f1\")\n",
        "\n",
        "def compute_metrics(eval_pred):\n",
        "    logits, labels = eval_pred\n",
        "    preds = np.argmax(logits, axis=-1)\n",
        "    return {\n",
        "        \"accuracy\": accuracy.compute(predictions=preds, references=labels)[\"accuracy\"],\n",
        "        \"f1_macro\": f1.compute(predictions=preds, references=labels, average=\"macro\")[\"f1\"]\n",
        "    }"
      ],
      "metadata": {
        "id": "NR2SGHAoMLN5"
      },
      "execution_count": null,
      "outputs": []
    },
    {
      "cell_type": "code",
      "source": [
        "# ======================================\n",
        "# Step 6: TrainingArguments\n",
        "# ======================================\n",
        "training_args = TrainingArguments(\n",
        "    output_dir=\"./results\",\n",
        "    evaluation_strategy=\"epoch\",\n",
        "    save_strategy=\"epoch\",\n",
        "    learning_rate=2e-5,\n",
        "    per_device_train_batch_size=16,\n",
        "    per_device_eval_batch_size=16,\n",
        "    num_train_epochs=3,\n",
        "    weight_decay=0.01,\n",
        "    logging_dir=\"./logs\",\n",
        "    logging_steps=100,\n",
        "    load_best_model_at_end=True,\n",
        "    metric_for_best_model=\"f1_macro\"\n",
        ")"
      ],
      "metadata": {
        "id": "ZezZ6rYIMNhN"
      },
      "execution_count": null,
      "outputs": []
    },
    {
      "cell_type": "code",
      "source": [
        "# ======================================\n",
        "# Step 7: Trainer\n",
        "# ======================================\n",
        "trainer = Trainer(\n",
        "    model=model,\n",
        "    args=training_args,\n",
        "    train_dataset=train_dataset,\n",
        "    eval_dataset=test_dataset,\n",
        "    tokenizer=tokenizer,\n",
        "    compute_metrics=compute_metrics\n",
        ")"
      ],
      "metadata": {
        "id": "IvCTnGhUMVeK"
      },
      "execution_count": null,
      "outputs": []
    },
    {
      "cell_type": "code",
      "source": [
        "# ======================================\n",
        "# Step 8: Train\n",
        "# ======================================\n",
        "trainer.train()"
      ],
      "metadata": {
        "id": "TXGGMSPoMYNB"
      },
      "execution_count": null,
      "outputs": []
    },
    {
      "cell_type": "code",
      "source": [
        "# ======================================\n",
        "# Step 9: Evaluate + Save\n",
        "# ======================================\n",
        "trainer.evaluate()\n",
        "\n",
        "# Save model to Colab storage\n",
        "trainer.save_model(\"./sentiment-roberta\")\n",
        "\n",
        "# If you want to push to Hugging Face Hub (optional)\n",
        "# !huggingface-cli login\n",
        "# trainer.push_to_hub(\"your-username/sentiment-roberta\")"
      ],
      "metadata": {
        "id": "HukBzZo1Makv"
      },
      "execution_count": null,
      "outputs": []
    },
    {
      "cell_type": "code",
      "source": [
        "# ======================================\n",
        "# Step 10: Inference\n",
        "# ======================================\n",
        "from transformers import pipeline\n",
        "\n",
        "pipe = pipeline(\"text-classification\", model=\"./sentiment-roberta\", tokenizer=\"roberta-base\")\n",
        "\n",
        "print(pipe(\"I absolutely love this movie!\"))\n",
        "print(pipe(\"This is the worst day ever.\"))\n",
        "print(pipe(\"It’s just okay, nothing special.\"))"
      ],
      "metadata": {
        "id": "uKGigkKCMfer"
      },
      "execution_count": null,
      "outputs": []
    }
  ]
}